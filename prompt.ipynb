{
 "cells": [
  {
   "cell_type": "code",
   "execution_count": 1,
   "metadata": {},
   "outputs": [],
   "source": [
    "from langchain.llms import OpenAI"
   ]
  },
  {
   "cell_type": "code",
   "execution_count": 24,
   "metadata": {},
   "outputs": [],
   "source": [
    "import os\n",
    "from dotenv import load_dotenv\n",
    "load_dotenv()\n",
    "os.environ['OPENAI_API_KEY'] = os.getenv('OPENAI_API_KEY')\n",
    "os.environ['SERP_API_KEY'] = os.getenv('SERP_API_KEY')"
   ]
  },
  {
   "cell_type": "code",
   "execution_count": 3,
   "metadata": {},
   "outputs": [
    {
     "name": "stderr",
     "output_type": "stream",
     "text": [
      "C:\\Users\\Tushar Parsai\\AppData\\Local\\Temp\\ipykernel_5568\\3340776553.py:1: LangChainDeprecationWarning: The class `OpenAI` was deprecated in LangChain 0.0.10 and will be removed in 1.0. An updated version of the class exists in the langchain-openai package and should be used instead. To use it run `pip install -U langchain-openai` and import as `from langchain_openai import OpenAI`.\n",
      "  llm = OpenAI()\n"
     ]
    }
   ],
   "source": [
    "llm = OpenAI()\n"
   ]
  },
  {
   "cell_type": "code",
   "execution_count": 4,
   "metadata": {},
   "outputs": [],
   "source": [
    "from langchain import PromptTemplate\n",
    "prompt = PromptTemplate(\n",
    "    input_variables = ['product'],\n",
    "    template='give me the review of {product} in 3 key points'\n",
    ")"
   ]
  },
  {
   "cell_type": "code",
   "execution_count": 9,
   "metadata": {},
   "outputs": [],
   "source": [
    "text_from_prompt = prompt.format(product='iphone 13 pro max')"
   ]
  },
  {
   "cell_type": "code",
   "execution_count": 10,
   "metadata": {},
   "outputs": [
    {
     "name": "stderr",
     "output_type": "stream",
     "text": [
      "C:\\Users\\Tushar Parsai\\AppData\\Local\\Temp\\ipykernel_5568\\1737113563.py:1: LangChainDeprecationWarning: The method `BaseLLM.__call__` was deprecated in langchain-core 0.1.7 and will be removed in 1.0. Use invoke instead.\n",
      "  print(llm(text_from_prompt))\n"
     ]
    },
    {
     "name": "stdout",
     "output_type": "stream",
     "text": [
      "\n",
      "\n",
      "1. Improved camera capabilities: The iPhone 13 Pro Max boasts a triple-camera system with improved sensors and lenses, allowing for better low-light photography and higher quality video recording. Additionally, the ProRAW feature gives users more control over their photos, making it a great tool for professional photographers.\n",
      "\n",
      "2. Powerful performance: The iPhone 13 Pro Max is powered by the A15 Bionic chip, which is the fastest chip ever used in a smartphone. This means faster app loading times, smoother graphics, and improved overall performance. The device also has a larger battery, providing longer battery life compared to previous models.\n",
      "\n",
      "3. Design and display: The iPhone 13 Pro Max features a stunning 6.7-inch Super Retina XDR OLED display with a 120Hz refresh rate, making it one of the best displays on the market. The device also has a sleek and durable design, with a Ceramic Shield front cover for improved durability. The Pro Max comes in a variety of colors, including a new Sierra Blue option.\n"
     ]
    }
   ],
   "source": [
    "print(llm(text_from_prompt))"
   ]
  },
  {
   "cell_type": "code",
   "execution_count": 14,
   "metadata": {},
   "outputs": [],
   "source": [
    "from langchain.chains import LLMChain\n",
    "llm_chain = LLMChain(\n",
    "    prompt = prompt,\n",
    "    llm = llm,\n",
    "    verbose = True\n",
    ")"
   ]
  },
  {
   "cell_type": "code",
   "execution_count": 15,
   "metadata": {},
   "outputs": [
    {
     "name": "stdout",
     "output_type": "stream",
     "text": [
      "\n",
      "\n",
      "\u001b[1m> Entering new LLMChain chain...\u001b[0m\n",
      "Prompt after formatting:\n",
      "\u001b[32;1m\u001b[1;3mgive me the review of iphone 13 pro max in 3 key points\u001b[0m\n",
      "\n",
      "\u001b[1m> Finished chain.\u001b[0m\n"
     ]
    },
    {
     "data": {
      "text/plain": [
       "'\\n\\n1. Improved Design and Display: The iPhone 13 Pro Max features a sleeker and more durable design with a Ceramic Shield front cover and a surgical-grade stainless steel frame. The display has also been upgraded to a Super Retina XDR OLED panel with a 120Hz refresh rate, providing a smoother and more immersive viewing experience.\\n\\n2. Powerful Performance: The iPhone 13 Pro Max is equipped with the new A15 Bionic chip, which is faster and more efficient than its predecessor. This allows for smoother performance, faster app loading times, and improved battery life. The device also supports 5G connectivity, making it ideal for high-speed internet browsing and streaming.\\n\\n3. Advanced Camera System: The iPhone 13 Pro Max boasts a triple-camera setup with improved sensors, allowing for better low-light performance and sharper images. It also includes new features such as ProRAW mode, which gives users more control over their photos, and Cinematic mode, which allows for professional-looking videos with depth-of-field effects. Additionally, the device has a larger battery and supports fast charging, making it a great option for content creators and heavy users.'"
      ]
     },
     "execution_count": 15,
     "metadata": {},
     "output_type": "execute_result"
    }
   ],
   "source": [
    "llm_chain.run('iphone 13 pro max')"
   ]
  },
  {
   "cell_type": "code",
   "execution_count": 16,
   "metadata": {},
   "outputs": [],
   "source": [
    "prompt1 = PromptTemplate(\n",
    "    input_variables = ['price'],\n",
    "    template= 'suggest a good mountain bike for the CAD {price} range. Give me only one name'\n",
    ")\n",
    "prompt2 = PromptTemplate(\n",
    "    input_variables = ['product'],\n",
    "    template= 'what are the best months to buy {product}'\n",
    ")"
   ]
  },
  {
   "cell_type": "code",
   "execution_count": 17,
   "metadata": {},
   "outputs": [],
   "source": [
    "chain1 = LLMChain(llm=llm,prompt=prompt1)\n",
    "chain2 = LLMChain(llm=llm,prompt=prompt2)"
   ]
  },
  {
   "cell_type": "code",
   "execution_count": 22,
   "metadata": {},
   "outputs": [],
   "source": [
    "from langchain.chains import SimpleSequentialChain\n",
    "finalChain = SimpleSequentialChain(chains = [chain1,chain2],verbose=True)"
   ]
  },
  {
   "cell_type": "code",
   "execution_count": 23,
   "metadata": {},
   "outputs": [
    {
     "name": "stdout",
     "output_type": "stream",
     "text": [
      "\n",
      "\n",
      "\u001b[1m> Entering new SimpleSequentialChain chain...\u001b[0m\n",
      "\n",
      "\n",
      "\u001b[1m> Entering new LLMChain chain...\u001b[0m\n",
      "Prompt after formatting:\n",
      "\u001b[32;1m\u001b[1;3msuggest a good mountain bike for the CAD 1200 range. Give me only one name\u001b[0m\n",
      "\n",
      "\u001b[1m> Finished chain.\u001b[0m\n",
      "\u001b[36;1m\u001b[1;3m\n",
      "\n",
      "The Trek Marlin 7 is a great mountain bike option for the CAD 1200 range. It features a lightweight aluminum frame, 29-inch wheels for smooth rolling over rough terrain, and a 100mm suspension fork for added control and comfort on the trails. It also has a wide range of gears for tackling various terrain, hydraulic disc brakes for reliable stopping power, and a dropper seat post for easy adjustments on the go. Overall, the Trek Marlin 7 offers great value for its price and is a top choice among many mountain bikers.\u001b[0m\n",
      "\n",
      "\n",
      "\u001b[1m> Entering new LLMChain chain...\u001b[0m\n",
      "Prompt after formatting:\n",
      "\u001b[32;1m\u001b[1;3mwhat are the best months to buy \n",
      "\n",
      "The Trek Marlin 7 is a great mountain bike option for the CAD 1200 range. It features a lightweight aluminum frame, 29-inch wheels for smooth rolling over rough terrain, and a 100mm suspension fork for added control and comfort on the trails. It also has a wide range of gears for tackling various terrain, hydraulic disc brakes for reliable stopping power, and a dropper seat post for easy adjustments on the go. Overall, the Trek Marlin 7 offers great value for its price and is a top choice among many mountain bikers.\u001b[0m\n",
      "\n",
      "\u001b[1m> Finished chain.\u001b[0m\n",
      "\u001b[33;1m\u001b[1;3m \n",
      "\n",
      "As for the best months to buy a Trek Marlin 7, it ultimately depends on personal preference and your location. Generally, the best time to buy a mountain bike is during the fall and winter months when demand is lower and retailers are clearing out their inventory to make room for newer models. This can often result in discounts or sales on previous year's models. You may also find good deals during major holiday sales such as Black Friday or Cyber Monday. It's also worth checking with your local bike shop as they may have their own sales or promotions throughout the year. Ultimately, it's best to keep an eye out for deals and discounts throughout the year and make a purchase when you find a good deal.\u001b[0m\n",
      "\n",
      "\u001b[1m> Finished chain.\u001b[0m\n"
     ]
    },
    {
     "data": {
      "text/plain": [
       "\" \\n\\nAs for the best months to buy a Trek Marlin 7, it ultimately depends on personal preference and your location. Generally, the best time to buy a mountain bike is during the fall and winter months when demand is lower and retailers are clearing out their inventory to make room for newer models. This can often result in discounts or sales on previous year's models. You may also find good deals during major holiday sales such as Black Friday or Cyber Monday. It's also worth checking with your local bike shop as they may have their own sales or promotions throughout the year. Ultimately, it's best to keep an eye out for deals and discounts throughout the year and make a purchase when you find a good deal.\""
      ]
     },
     "execution_count": 23,
     "metadata": {},
     "output_type": "execute_result"
    }
   ],
   "source": [
    "finalChain.run('1200')"
   ]
  },
  {
   "cell_type": "code",
   "execution_count": 25,
   "metadata": {},
   "outputs": [
    {
     "name": "stdout",
     "output_type": "stream",
     "text": [
      "Collecting google-search-results\n",
      "  Downloading google_search_results-2.4.2.tar.gz (18 kB)\n",
      "  Preparing metadata (setup.py): started\n",
      "  Preparing metadata (setup.py): finished with status 'done'\n",
      "Requirement already satisfied: requests in c:\\users\\public\\anaconda3\\envs\\llms\\lib\\site-packages (from google-search-results) (2.32.3)\n",
      "Requirement already satisfied: charset-normalizer<4,>=2 in c:\\users\\public\\anaconda3\\envs\\llms\\lib\\site-packages (from requests->google-search-results) (3.4.0)\n",
      "Requirement already satisfied: idna<4,>=2.5 in c:\\users\\public\\anaconda3\\envs\\llms\\lib\\site-packages (from requests->google-search-results) (3.10)\n",
      "Requirement already satisfied: urllib3<3,>=1.21.1 in c:\\users\\public\\anaconda3\\envs\\llms\\lib\\site-packages (from requests->google-search-results) (2.2.3)\n",
      "Requirement already satisfied: certifi>=2017.4.17 in c:\\users\\public\\anaconda3\\envs\\llms\\lib\\site-packages (from requests->google-search-results) (2024.8.30)\n",
      "Building wheels for collected packages: google-search-results\n",
      "  Building wheel for google-search-results (setup.py): started\n",
      "  Building wheel for google-search-results (setup.py): finished with status 'done'\n",
      "  Created wheel for google-search-results: filename=google_search_results-2.4.2-py3-none-any.whl size=32083 sha256=b8cf64bc60063a739550e9afc416cfb19bef4e6db478d85e5cc34872b0932636\n",
      "  Stored in directory: c:\\users\\tushar parsai\\appdata\\local\\pip\\cache\\wheels\\6e\\42\\3e\\aeb691b02cb7175ec70e2da04b5658d4739d2b41e5f73cd06f\n",
      "Successfully built google-search-results\n",
      "Installing collected packages: google-search-results\n",
      "Successfully installed google-search-results-2.4.2\n",
      "Note: you may need to restart the kernel to use updated packages.\n"
     ]
    }
   ],
   "source": [
    "%pip install google-search-results"
   ]
  },
  {
   "cell_type": "code",
   "execution_count": null,
   "metadata": {},
   "outputs": [],
   "source": []
  }
 ],
 "metadata": {
  "kernelspec": {
   "display_name": "llms",
   "language": "python",
   "name": "python3"
  },
  "language_info": {
   "codemirror_mode": {
    "name": "ipython",
    "version": 3
   },
   "file_extension": ".py",
   "mimetype": "text/x-python",
   "name": "python",
   "nbconvert_exporter": "python",
   "pygments_lexer": "ipython3",
   "version": "3.11.10"
  }
 },
 "nbformat": 4,
 "nbformat_minor": 2
}
