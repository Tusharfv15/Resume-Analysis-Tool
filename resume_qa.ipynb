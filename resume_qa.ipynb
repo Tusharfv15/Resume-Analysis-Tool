{
 "cells": [
  {
   "cell_type": "markdown",
   "metadata": {},
   "source": [
    "1. **Get the PDF**  \n",
    "2. **Convert the PDF to text**  \n",
    "3. **Extract the text** and do the necessary steps\n"
   ]
  },
  {
   "cell_type": "code",
   "execution_count": 1,
   "metadata": {},
   "outputs": [
    {
     "name": "stdout",
     "output_type": "stream",
     "text": [
      "Collecting PyPDF2\n",
      "  Downloading pypdf2-3.0.1-py3-none-any.whl.metadata (6.8 kB)\n",
      "Downloading pypdf2-3.0.1-py3-none-any.whl (232 kB)\n",
      "Installing collected packages: PyPDF2\n",
      "Successfully installed PyPDF2-3.0.1\n",
      "Note: you may need to restart the kernel to use updated packages.\n"
     ]
    }
   ],
   "source": [
    "#get the pdf\n",
    "%pip install PyPDF2"
   ]
  },
  {
   "cell_type": "code",
   "execution_count": 3,
   "metadata": {},
   "outputs": [],
   "source": [
    "from PyPDF2 import PdfReader\n",
    "PdfReader = PdfReader(r'data\\Resume_October_Main.pdf')\n"
   ]
  },
  {
   "cell_type": "code",
   "execution_count": 4,
   "metadata": {},
   "outputs": [
    {
     "data": {
      "text/plain": [
       "1"
      ]
     },
     "execution_count": 4,
     "metadata": {},
     "output_type": "execute_result"
    }
   ],
   "source": [
    "len(PdfReader.pages)"
   ]
  },
  {
   "cell_type": "code",
   "execution_count": 16,
   "metadata": {},
   "outputs": [],
   "source": [
    "import os\n",
    "from dotenv import load_dotenv\n",
    "load_dotenv()\n",
    "os.environ['OPENAI_API_KEY'] = os.getenv('OPENAI_API_KEY')\n",
    "os.environ['SERPAPI_API_KEY'] = os.getenv('SERPAPI_API_KEY')"
   ]
  },
  {
   "cell_type": "code",
   "execution_count": 5,
   "metadata": {},
   "outputs": [
    {
     "data": {
      "text/plain": [
       "'Tushar Parsai\\nPune, Maharashtra\\n/ne+(91)8143195970 parsaitushar@gmail.com LinkedIn /gtbGitHub\\n Leetcode\\nEDUCATION\\nIndian Institute Of Information Technology, Pune 2022 - 2026\\nBachelor of Technology in Computer Science - CGPA -8.00 Pune, India\\nSri Chaitanya C.V Raman Bhavan 2020 - 2022\\nBoard of Intermediate Education, Andhra Pradesh - MPC - Percentage -96.4% Vijayawada, India\\nTECHNICAL SKILLS\\nLanguages: Python, Java, C, C++, Typescript, JavaScript, SQL\\nTechnologies: GitHub, Git, MongoDB, PostgreSQL, MySQL, Pandas, Numpy, Scikit-Learn, TensorFlow,\\nLinux, OpenAI API, Gemini, Hugging Face\\nFrameworks: React, NextJS, Redux, NodeJS, ExpressJS, Shadcn-UI, Prisma.\\nCoursework/Skills: Data Structures & Algorithms, Operating Systems, Database Management Systems\\n(DBMS), Artificial Intelligence, OOPS Concepts, Web Development, Machine Learning, Generative AI\\nPROJECTS\\nAI-Recruit |NextJS, React, PostgreSQL, Drizzle ORM Live\\n•An AI-driven mock interview website offering AI-generated interview questions, achieving 20+ user\\nregistrations and conducting 40+ mock interviews .\\n•Implemented question generation using Gemini’s LLM model , ensuring tailored and realistic interview\\nscenarios that adapt to user responses and profiles.\\n•Integrated a speech-to-text recognizer by processing audio files and comparing transcriptions to achieve\\n85% accuracy . Integrated React Webcam for seamless real-time user interaction.\\n•Designed an AI-based feedback system to evaluate and rate user responses, enhancing the mock interview\\nexperience.\\nGit-peek |NodeJS, React, Mongo DB, ExpressJS Live\\n•Git-peek lets users discover the most popular GitHub repositories for languages like Java, Python, and\\nJavaScript, keeping them updated with trending project s.\\n•Users can easily copy the GitHub clone link of any repository , streamlining the process of accessing and\\nintegrating new projects.\\n•The platform allows users to like GitHub profiles of others, fostering community interaction and\\nhighlighting influential contributors.\\nProperty Pulse |NextJS , React, MongoDB Live\\n•An open-source project for property listings built using NextJS and React.\\n•Integrated Mapbox withGoogle Maps Geocoding API , enhancing property location accuracy by 90%\\n•Utilized Cloudinary to allow upto 5 image uploads per property, enabling a total of 100+ uploads ,\\nFirebase for authentication, and built a messaging system for tenant-manager communication.\\n•Created backend API routes using NextJS for efficient server-side operations and robust backend\\nfunctionality.\\nACHIEVEMENTS\\n•Solved over 450 Algorithmic problems on coding platforms like Leetcode, GeeksforGeeks, and\\nCodestudio.\\n•Secured 98.8 percentile in JEE Mains 2022. Ranked among the top 1.2% of over 1.2 million candidates who\\nappeared for the test.\\n•Achieved a max rating of 1614 onLeetcode\\nCERTIFICATIONS\\n•Advanced Learning Algorithms from DeepLearning.AI\\n•Supervised Machine Learning: Regression and Classification from DeepLearning.AI'"
      ]
     },
     "execution_count": 5,
     "metadata": {},
     "output_type": "execute_result"
    }
   ],
   "source": [
    "PdfReader.pages[0].extract_text()"
   ]
  },
  {
   "cell_type": "code",
   "execution_count": 6,
   "metadata": {},
   "outputs": [],
   "source": [
    "raw_text = ''\n",
    "for i,page in enumerate(PdfReader.pages):\n",
    "    content = page.extract_text()\n",
    "    if content:\n",
    "        raw_text += content\n",
    "\n"
   ]
  },
  {
   "cell_type": "code",
   "execution_count": 8,
   "metadata": {},
   "outputs": [
    {
     "name": "stdout",
     "output_type": "stream",
     "text": [
      "Tushar Parsai\n",
      "Pune, Maharashtra\n",
      "/ne+(91)8143195970 parsaitushar@gmail.com LinkedIn /gtbGitHub\n",
      " Leetcode\n",
      "EDUCATION\n",
      "Indian Institute Of Information Technology, Pune 2022 - 2026\n",
      "Bachelor of Technology in Computer Science - CGPA -8.00 Pune, India\n",
      "Sri Chaitanya C.V Raman Bhavan 2020 - 2022\n",
      "Board of Intermediate Education, Andhra Pradesh - MPC - Percentage -96.4% Vijayawada, India\n",
      "TECHNICAL SKILLS\n",
      "Languages: Python, Java, C, C++, Typescript, JavaScript, SQL\n",
      "Technologies: GitHub, Git, MongoDB, PostgreSQL, MySQL, Pandas, Numpy, Scikit-Learn, TensorFlow,\n",
      "Linux, OpenAI API, Gemini, Hugging Face\n",
      "Frameworks: React, NextJS, Redux, NodeJS, ExpressJS, Shadcn-UI, Prisma.\n",
      "Coursework/Skills: Data Structures & Algorithms, Operating Systems, Database Management Systems\n",
      "(DBMS), Artificial Intelligence, OOPS Concepts, Web Development, Machine Learning, Generative AI\n",
      "PROJECTS\n",
      "AI-Recruit |NextJS, React, PostgreSQL, Drizzle ORM Live\n",
      "•An AI-driven mock interview website offering AI-generated interview questions, achieving 20+ user\n",
      "registrations and conducting 40+ mock interviews .\n",
      "•Implemented question generation using Gemini’s LLM model , ensuring tailored and realistic interview\n",
      "scenarios that adapt to user responses and profiles.\n",
      "•Integrated a speech-to-text recognizer by processing audio files and comparing transcriptions to achieve\n",
      "85% accuracy . Integrated React Webcam for seamless real-time user interaction.\n",
      "•Designed an AI-based feedback system to evaluate and rate user responses, enhancing the mock interview\n",
      "experience.\n",
      "Git-peek |NodeJS, React, Mongo DB, ExpressJS Live\n",
      "•Git-peek lets users discover the most popular GitHub repositories for languages like Java, Python, and\n",
      "JavaScript, keeping them updated with trending project s.\n",
      "•Users can easily copy the GitHub clone link of any repository , streamlining the process of accessing and\n",
      "integrating new projects.\n",
      "•The platform allows users to like GitHub profiles of others, fostering community interaction and\n",
      "highlighting influential contributors.\n",
      "Property Pulse |NextJS , React, MongoDB Live\n",
      "•An open-source project for property listings built using NextJS and React.\n",
      "•Integrated Mapbox withGoogle Maps Geocoding API , enhancing property location accuracy by 90%\n",
      "•Utilized Cloudinary to allow upto 5 image uploads per property, enabling a total of 100+ uploads ,\n",
      "Firebase for authentication, and built a messaging system for tenant-manager communication.\n",
      "•Created backend API routes using NextJS for efficient server-side operations and robust backend\n",
      "functionality.\n",
      "ACHIEVEMENTS\n",
      "•Solved over 450 Algorithmic problems on coding platforms like Leetcode, GeeksforGeeks, and\n",
      "Codestudio.\n",
      "•Secured 98.8 percentile in JEE Mains 2022. Ranked among the top 1.2% of over 1.2 million candidates who\n",
      "appeared for the test.\n",
      "•Achieved a max rating of 1614 onLeetcode\n",
      "CERTIFICATIONS\n",
      "•Advanced Learning Algorithms from DeepLearning.AI\n",
      "•Supervised Machine Learning: Regression and Classification from DeepLearning.AI\n"
     ]
    }
   ],
   "source": [
    "print(raw_text)"
   ]
  },
  {
   "cell_type": "code",
   "execution_count": 10,
   "metadata": {},
   "outputs": [],
   "source": [
    "##get chunks\n",
    "from langchain.text_splitter import CharacterTextSplitter\n",
    "textSplitter = CharacterTextSplitter(\n",
    "    separator=\"\\n\",\n",
    "    chunk_size = 1000,\n",
    "    chunk_overlap = 200,\n",
    "   \n",
    ")\n"
   ]
  },
  {
   "cell_type": "code",
   "execution_count": 11,
   "metadata": {},
   "outputs": [],
   "source": [
    "texts = textSplitter.split_text(raw_text)"
   ]
  },
  {
   "cell_type": "code",
   "execution_count": 13,
   "metadata": {},
   "outputs": [
    {
     "name": "stdout",
     "output_type": "stream",
     "text": [
      "Tushar Parsai\n",
      "Pune, Maharashtra\n",
      "/ne+(91)8143195970 parsaitushar@gmail.com LinkedIn /gtbGitHub\n",
      " Leetcode\n",
      "EDUCATION\n",
      "Indian Institute Of Information Technology, Pune 2022 - 2026\n",
      "Bachelor of Technology in Computer Science - CGPA -8.00 Pune, India\n",
      "Sri Chaitanya C.V Raman Bhavan 2020 - 2022\n",
      "Board of Intermediate Education, Andhra Pradesh - MPC - Percentage -96.4% Vijayawada, India\n",
      "TECHNICAL SKILLS\n",
      "Languages: Python, Java, C, C++, Typescript, JavaScript, SQL\n",
      "Technologies: GitHub, Git, MongoDB, PostgreSQL, MySQL, Pandas, Numpy, Scikit-Learn, TensorFlow,\n",
      "Linux, OpenAI API, Gemini, Hugging Face\n",
      "Frameworks: React, NextJS, Redux, NodeJS, ExpressJS, Shadcn-UI, Prisma.\n",
      "Coursework/Skills: Data Structures & Algorithms, Operating Systems, Database Management Systems\n",
      "(DBMS), Artificial Intelligence, OOPS Concepts, Web Development, Machine Learning, Generative AI\n",
      "PROJECTS\n",
      "AI-Recruit |NextJS, React, PostgreSQL, Drizzle ORM Live\n"
     ]
    }
   ],
   "source": [
    "print(texts[0])"
   ]
  },
  {
   "cell_type": "code",
   "execution_count": 14,
   "metadata": {},
   "outputs": [
    {
     "name": "stderr",
     "output_type": "stream",
     "text": [
      "C:\\Users\\Tushar Parsai\\AppData\\Local\\Temp\\ipykernel_23756\\241086914.py:3: LangChainDeprecationWarning: The class `OpenAIEmbeddings` was deprecated in LangChain 0.0.9 and will be removed in 1.0. An updated version of the class exists in the langchain-openai package and should be used instead. To use it run `pip install -U langchain-openai` and import as `from langchain_openai import OpenAIEmbeddings`.\n",
      "  embeddings = OpenAIEmbeddings()\n"
     ]
    }
   ],
   "source": [
    "## create embeddings\n",
    "from langchain.embeddings.openai import OpenAIEmbeddings\n",
    "embeddings = OpenAIEmbeddings()\n"
   ]
  },
  {
   "cell_type": "code",
   "execution_count": 19,
   "metadata": {},
   "outputs": [],
   "source": [
    "## get our vector database\n",
    "from langchain.vectorstores import FAISS\n"
   ]
  },
  {
   "cell_type": "code",
   "execution_count": 20,
   "metadata": {},
   "outputs": [],
   "source": [
    "document_search = FAISS.from_texts(texts,embeddings)\n"
   ]
  },
  {
   "cell_type": "code",
   "execution_count": 21,
   "metadata": {},
   "outputs": [
    {
     "data": {
      "text/plain": [
       "<langchain_community.vectorstores.faiss.FAISS at 0x21d067a5e90>"
      ]
     },
     "execution_count": 21,
     "metadata": {},
     "output_type": "execute_result"
    }
   ],
   "source": [
    "document_search"
   ]
  },
  {
   "cell_type": "markdown",
   "metadata": {},
   "source": [
    "1) chain\n",
    "2) define ModuleNotFoundError\n",
    "3) build a query\n",
    "4) similarity search based on query\n",
    "5) get the most similar text"
   ]
  },
  {
   "cell_type": "code",
   "execution_count": 22,
   "metadata": {},
   "outputs": [],
   "source": [
    "from langchain.chains.question_answering import load_qa_chain\n",
    "from langchain.llms import OpenAI\n"
   ]
  },
  {
   "cell_type": "code",
   "execution_count": 24,
   "metadata": {},
   "outputs": [
    {
     "name": "stderr",
     "output_type": "stream",
     "text": [
      "C:\\Users\\Tushar Parsai\\AppData\\Local\\Temp\\ipykernel_23756\\343230114.py:2: LangChainDeprecationWarning: The class `OpenAI` was deprecated in LangChain 0.0.10 and will be removed in 1.0. An updated version of the class exists in the langchain-openai package and should be used instead. To use it run `pip install -U langchain-openai` and import as `from langchain_openai import OpenAI`.\n",
      "  OpenAI(model = 'gpt-3.5-turbo-instruct'),\n",
      "C:\\Users\\Tushar Parsai\\AppData\\Local\\Temp\\ipykernel_23756\\343230114.py:1: LangChainDeprecationWarning: This class is deprecated. See the following migration guides for replacements based on `chain_type`:\n",
      "stuff: https://python.langchain.com/v0.2/docs/versions/migrating_chains/stuff_docs_chain\n",
      "map_reduce: https://python.langchain.com/v0.2/docs/versions/migrating_chains/map_reduce_chain\n",
      "refine: https://python.langchain.com/v0.2/docs/versions/migrating_chains/refine_chain\n",
      "map_rerank: https://python.langchain.com/v0.2/docs/versions/migrating_chains/map_rerank_docs_chain\n",
      "\n",
      "See also guides on retrieval and question-answering here: https://python.langchain.com/v0.2/docs/how_to/#qa-with-rag\n",
      "  chain = load_qa_chain(\n"
     ]
    }
   ],
   "source": [
    "chain = load_qa_chain(\n",
    "    OpenAI(model = 'gpt-3.5-turbo-instruct'),\n",
    "    chain_type='stuff'\n",
    ")"
   ]
  },
  {
   "cell_type": "code",
   "execution_count": 36,
   "metadata": {},
   "outputs": [],
   "source": [
    "query = 'What is the CGPA of the candidate?'\n"
   ]
  },
  {
   "cell_type": "code",
   "execution_count": 37,
   "metadata": {},
   "outputs": [],
   "source": [
    "docs = document_search.similarity_search(query=query)"
   ]
  },
  {
   "cell_type": "code",
   "execution_count": 38,
   "metadata": {},
   "outputs": [
    {
     "data": {
      "text/plain": [
       "\" The candidate's CGPA is 8.00.\""
      ]
     },
     "execution_count": 38,
     "metadata": {},
     "output_type": "execute_result"
    }
   ],
   "source": [
    "chain.run(input_documents = docs, question = query)"
   ]
  },
  {
   "cell_type": "code",
   "execution_count": null,
   "metadata": {},
   "outputs": [],
   "source": []
  }
 ],
 "metadata": {
  "kernelspec": {
   "display_name": "llms",
   "language": "python",
   "name": "python3"
  },
  "language_info": {
   "codemirror_mode": {
    "name": "ipython",
    "version": 3
   },
   "file_extension": ".py",
   "mimetype": "text/x-python",
   "name": "python",
   "nbconvert_exporter": "python",
   "pygments_lexer": "ipython3",
   "version": "3.11.10"
  }
 },
 "nbformat": 4,
 "nbformat_minor": 2
}
